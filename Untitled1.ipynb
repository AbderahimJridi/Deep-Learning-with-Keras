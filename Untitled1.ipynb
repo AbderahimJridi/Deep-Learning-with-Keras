{
 "cells": [
  {
   "cell_type": "code",
   "execution_count": 58,
   "id": "de9fb5eb",
   "metadata": {},
   "outputs": [],
   "source": [
    "import numpy as np \n",
    "import pandas as pd \n",
    "import matplotlib.pyplot as plt\n",
    "from sklearn.model_selection import train_test_split\n",
    "from tensorflow.keras.utils import to_categorical\n",
    "from keras.models import Sequential\n",
    "from keras.layers import Conv2D, MaxPooling2D\n",
    "from keras.layers import Dense, Dropout, Flatten\n",
    "from keras.preprocessing.image import ImageDataGenerator\n",
    "from tensorflow.keras.applications import VGG16;\n",
    "from keras.applications.vgg16 import preprocess_input\n",
    "import keras"
   ]
  },
  {
   "cell_type": "code",
   "execution_count": 77,
   "id": "059fe182",
   "metadata": {},
   "outputs": [],
   "source": [
    "# Read csv data files\n",
    "train_data = pd.read_csv('fashion-mnist_train.csv')\n",
    "test_data = pd.read_csv('fashion-mnist_test.csv')"
   ]
  },
  {
   "cell_type": "code",
   "execution_count": 78,
   "id": "e1c74ea1",
   "metadata": {},
   "outputs": [
    {
     "data": {
      "text/html": [
       "<div>\n",
       "<style scoped>\n",
       "    .dataframe tbody tr th:only-of-type {\n",
       "        vertical-align: middle;\n",
       "    }\n",
       "\n",
       "    .dataframe tbody tr th {\n",
       "        vertical-align: top;\n",
       "    }\n",
       "\n",
       "    .dataframe thead th {\n",
       "        text-align: right;\n",
       "    }\n",
       "</style>\n",
       "<table border=\"1\" class=\"dataframe\">\n",
       "  <thead>\n",
       "    <tr style=\"text-align: right;\">\n",
       "      <th></th>\n",
       "      <th>label</th>\n",
       "      <th>pixel1</th>\n",
       "      <th>pixel2</th>\n",
       "      <th>pixel3</th>\n",
       "      <th>pixel4</th>\n",
       "      <th>pixel5</th>\n",
       "      <th>pixel6</th>\n",
       "      <th>pixel7</th>\n",
       "      <th>pixel8</th>\n",
       "      <th>pixel9</th>\n",
       "      <th>...</th>\n",
       "      <th>pixel775</th>\n",
       "      <th>pixel776</th>\n",
       "      <th>pixel777</th>\n",
       "      <th>pixel778</th>\n",
       "      <th>pixel779</th>\n",
       "      <th>pixel780</th>\n",
       "      <th>pixel781</th>\n",
       "      <th>pixel782</th>\n",
       "      <th>pixel783</th>\n",
       "      <th>pixel784</th>\n",
       "    </tr>\n",
       "  </thead>\n",
       "  <tbody>\n",
       "    <tr>\n",
       "      <th>0</th>\n",
       "      <td>2</td>\n",
       "      <td>0</td>\n",
       "      <td>0</td>\n",
       "      <td>0</td>\n",
       "      <td>0</td>\n",
       "      <td>0</td>\n",
       "      <td>0</td>\n",
       "      <td>0</td>\n",
       "      <td>0</td>\n",
       "      <td>0</td>\n",
       "      <td>...</td>\n",
       "      <td>0</td>\n",
       "      <td>0</td>\n",
       "      <td>0</td>\n",
       "      <td>0</td>\n",
       "      <td>0</td>\n",
       "      <td>0</td>\n",
       "      <td>0</td>\n",
       "      <td>0</td>\n",
       "      <td>0</td>\n",
       "      <td>0</td>\n",
       "    </tr>\n",
       "    <tr>\n",
       "      <th>1</th>\n",
       "      <td>9</td>\n",
       "      <td>0</td>\n",
       "      <td>0</td>\n",
       "      <td>0</td>\n",
       "      <td>0</td>\n",
       "      <td>0</td>\n",
       "      <td>0</td>\n",
       "      <td>0</td>\n",
       "      <td>0</td>\n",
       "      <td>0</td>\n",
       "      <td>...</td>\n",
       "      <td>0</td>\n",
       "      <td>0</td>\n",
       "      <td>0</td>\n",
       "      <td>0</td>\n",
       "      <td>0</td>\n",
       "      <td>0</td>\n",
       "      <td>0</td>\n",
       "      <td>0</td>\n",
       "      <td>0</td>\n",
       "      <td>0</td>\n",
       "    </tr>\n",
       "    <tr>\n",
       "      <th>2</th>\n",
       "      <td>6</td>\n",
       "      <td>0</td>\n",
       "      <td>0</td>\n",
       "      <td>0</td>\n",
       "      <td>0</td>\n",
       "      <td>0</td>\n",
       "      <td>0</td>\n",
       "      <td>0</td>\n",
       "      <td>5</td>\n",
       "      <td>0</td>\n",
       "      <td>...</td>\n",
       "      <td>0</td>\n",
       "      <td>0</td>\n",
       "      <td>0</td>\n",
       "      <td>30</td>\n",
       "      <td>43</td>\n",
       "      <td>0</td>\n",
       "      <td>0</td>\n",
       "      <td>0</td>\n",
       "      <td>0</td>\n",
       "      <td>0</td>\n",
       "    </tr>\n",
       "    <tr>\n",
       "      <th>3</th>\n",
       "      <td>0</td>\n",
       "      <td>0</td>\n",
       "      <td>0</td>\n",
       "      <td>0</td>\n",
       "      <td>1</td>\n",
       "      <td>2</td>\n",
       "      <td>0</td>\n",
       "      <td>0</td>\n",
       "      <td>0</td>\n",
       "      <td>0</td>\n",
       "      <td>...</td>\n",
       "      <td>3</td>\n",
       "      <td>0</td>\n",
       "      <td>0</td>\n",
       "      <td>0</td>\n",
       "      <td>0</td>\n",
       "      <td>1</td>\n",
       "      <td>0</td>\n",
       "      <td>0</td>\n",
       "      <td>0</td>\n",
       "      <td>0</td>\n",
       "    </tr>\n",
       "    <tr>\n",
       "      <th>4</th>\n",
       "      <td>3</td>\n",
       "      <td>0</td>\n",
       "      <td>0</td>\n",
       "      <td>0</td>\n",
       "      <td>0</td>\n",
       "      <td>0</td>\n",
       "      <td>0</td>\n",
       "      <td>0</td>\n",
       "      <td>0</td>\n",
       "      <td>0</td>\n",
       "      <td>...</td>\n",
       "      <td>0</td>\n",
       "      <td>0</td>\n",
       "      <td>0</td>\n",
       "      <td>0</td>\n",
       "      <td>0</td>\n",
       "      <td>0</td>\n",
       "      <td>0</td>\n",
       "      <td>0</td>\n",
       "      <td>0</td>\n",
       "      <td>0</td>\n",
       "    </tr>\n",
       "  </tbody>\n",
       "</table>\n",
       "<p>5 rows × 785 columns</p>\n",
       "</div>"
      ],
      "text/plain": [
       "   label  pixel1  pixel2  pixel3  pixel4  pixel5  pixel6  pixel7  pixel8  \\\n",
       "0      2       0       0       0       0       0       0       0       0   \n",
       "1      9       0       0       0       0       0       0       0       0   \n",
       "2      6       0       0       0       0       0       0       0       5   \n",
       "3      0       0       0       0       1       2       0       0       0   \n",
       "4      3       0       0       0       0       0       0       0       0   \n",
       "\n",
       "   pixel9  ...  pixel775  pixel776  pixel777  pixel778  pixel779  pixel780  \\\n",
       "0       0  ...         0         0         0         0         0         0   \n",
       "1       0  ...         0         0         0         0         0         0   \n",
       "2       0  ...         0         0         0        30        43         0   \n",
       "3       0  ...         3         0         0         0         0         1   \n",
       "4       0  ...         0         0         0         0         0         0   \n",
       "\n",
       "   pixel781  pixel782  pixel783  pixel784  \n",
       "0         0         0         0         0  \n",
       "1         0         0         0         0  \n",
       "2         0         0         0         0  \n",
       "3         0         0         0         0  \n",
       "4         0         0         0         0  \n",
       "\n",
       "[5 rows x 785 columns]"
      ]
     },
     "execution_count": 78,
     "metadata": {},
     "output_type": "execute_result"
    }
   ],
   "source": [
    "train_data.head()"
   ]
  },
  {
   "cell_type": "code",
   "execution_count": 79,
   "id": "50f1d802",
   "metadata": {},
   "outputs": [],
   "source": [
    "train_data.shape #(60,000*785)\n",
    "test_data.shape #(10000,785)\n",
    "train_X= np.array(train_data.iloc[:,1:])\n",
    "test_X= np.array(test_data.iloc[:,1:])\n",
    "train_Y= np.array (train_data.iloc[:,0]) # (60000,)\n",
    "test_Y = np.array(test_data.iloc[:,0]) #(10000,)"
   ]
  },
  {
   "cell_type": "code",
   "execution_count": 80,
   "id": "0cbdb371",
   "metadata": {},
   "outputs": [
    {
     "data": {
      "text/plain": [
       "(60000, 784)"
      ]
     },
     "execution_count": 80,
     "metadata": {},
     "output_type": "execute_result"
    }
   ],
   "source": [
    "train_X.shape"
   ]
  },
  {
   "cell_type": "code",
   "execution_count": 81,
   "id": "6dac3f23",
   "metadata": {},
   "outputs": [
    {
     "data": {
      "text/plain": [
       "10"
      ]
     },
     "execution_count": 81,
     "metadata": {},
     "output_type": "execute_result"
    }
   ],
   "source": [
    "classes = np.unique(train_Y)\n",
    "num_classes = len(classes)\n",
    "num_classes\n"
   ]
  },
  {
   "cell_type": "code",
   "execution_count": 82,
   "id": "c2c8872b",
   "metadata": {},
   "outputs": [
    {
     "data": {
      "text/plain": [
       "((60000, 784, 1), (10000, 784, 1))"
      ]
     },
     "execution_count": 82,
     "metadata": {},
     "output_type": "execute_result"
    }
   ],
   "source": [
    "# Convert the images into 3 channels\n",
    "train_X=np.dstack([train_X] * 3)\n",
    "test_X=np.dstack([test_X]*3)\n",
    "train_X.shape,test_X.shape"
   ]
  },
  {
   "cell_type": "code",
   "execution_count": 84,
   "id": "4a0d036b",
   "metadata": {},
   "outputs": [
    {
     "data": {
      "text/plain": [
       "((60000, 28, 28, 1), (10000, 28, 28, 1))"
      ]
     },
     "execution_count": 84,
     "metadata": {},
     "output_type": "execute_result"
    }
   ],
   "source": [
    "# Reshape images as per the tensor format required by tensorflow\n",
    "train_X = train_X.reshape(-1, 28,28,3)\n",
    "test_X= test_X.reshape (-1,28,28,3)\n",
    "train_X.shape,test_X.shape"
   ]
  },
  {
   "cell_type": "code",
   "execution_count": 66,
   "id": "b684869d",
   "metadata": {},
   "outputs": [
    {
     "data": {
      "text/plain": [
       "((60000, 48, 48, 3), (10000, 48, 48, 3))"
      ]
     },
     "execution_count": 66,
     "metadata": {},
     "output_type": "execute_result"
    }
   ],
   "source": [
    "from keras.preprocessing.image import img_to_array, array_to_img\n",
    "train_X = np.asarray([img_to_array(array_to_img(im, scale=False).resize((48,48))) for im in train_X])\n",
    "test_X = np.asarray([img_to_array(array_to_img(im, scale=False).resize((48,48))) for im in test_X])\n",
    "train_X.shape, test_X.shape"
   ]
  },
  {
   "cell_type": "code",
   "execution_count": 67,
   "id": "ba8e198a",
   "metadata": {},
   "outputs": [],
   "source": [
    "train_X = train_X.astype('float32')\n",
    "test_X = test_X.astype('float32')\n",
    "train_X = train_X / 255\n",
    "test_X = test_X / 255"
   ]
  },
  {
   "cell_type": "code",
   "execution_count": 68,
   "id": "b05bf27d",
   "metadata": {},
   "outputs": [
    {
     "data": {
      "text/plain": [
       "Text(0.5, 1.0, 'Ground Truth : 0')"
      ]
     },
     "execution_count": 68,
     "metadata": {},
     "output_type": "execute_result"
    },
    {
     "data": {
      "image/png": "[encoded data removed]",
      "text/plain": [
       "<Figure size 360x360 with 2 Axes>"
      ]
     },
     "metadata": {
      "needs_background": "light"
     },
     "output_type": "display_data"
    }
   ],
   "source": [
    "plt.figure(figsize=[5,5])\n",
    "\n",
    "# Display the first image in training data\n",
    "plt.subplot(121)\n",
    "plt.imshow(train_X[0,:,:])\n",
    "plt.title(\"Ground Truth : {}\".format(train_Y[0]))\n",
    "\n",
    "# Display the first image in testing data\n",
    "plt.subplot(122)\n",
    "plt.imshow(test_X[0,:,:])\n",
    "plt.title(\"Ground Truth : {}\".format(test_Y[0]))"
   ]
  },
  {
   "cell_type": "code",
   "execution_count": 69,
   "id": "147c0731",
   "metadata": {},
   "outputs": [
    {
     "data": {
      "text/plain": [
       "Text(0.5, 1.0, 'Ground Truth : 1')"
      ]
     },
     "execution_count": 69,
     "metadata": {},
     "output_type": "execute_result"
    },
    {
     "data": {
      "image/png": "[encoded data removed]",
      "text/plain": [
       "<Figure size 360x360 with 2 Axes>"
      ]
     },
     "metadata": {
      "needs_background": "light"
     },
     "output_type": "display_data"
    }
   ],
   "source": [
    "plt.figure(figsize=[5,5])\n",
    "\n",
    "# Display the second image in training data\n",
    "plt.subplot(121)\n",
    "plt.imshow(train_X[1,:,:])\n",
    "plt.title(\"Ground Truth : {}\".format(train_Y[1]))\n",
    "\n",
    "# Display the second image in testing data\n",
    "plt.subplot(122)\n",
    "plt.imshow(test_X[1,:,:])\n",
    "plt.title(\"Ground Truth : {}\".format(test_Y[1]))"
   ]
  },
  {
   "cell_type": "code",
   "execution_count": 70,
   "id": "3af076fd",
   "metadata": {},
   "outputs": [
    {
     "data": {
      "text/plain": [
       "Text(0.5, 1.0, 'Ground Truth : 2')"
      ]
     },
     "execution_count": 70,
     "metadata": {},
     "output_type": "execute_result"
    },
    {
     "data": {
      "image/png": "[encoded data removed]",
      "text/plain": [
       "<Figure size 360x360 with 2 Axes>"
      ]
     },
     "metadata": {
      "needs_background": "light"
     },
     "output_type": "display_data"
    }
   ],
   "source": [
    "plt.figure(figsize=[5,5])\n",
    "\n",
    "# Display the third image in training data\n",
    "plt.subplot(121)\n",
    "plt.imshow(train_X[2,:,:])\n",
    "plt.title(\"Ground Truth : {}\".format(train_Y[2]))\n",
    "\n",
    "# Display the third image in testing data\n",
    "plt.subplot(122)\n",
    "plt.imshow(test_X[2,:,:])\n",
    "plt.title(\"Ground Truth : {}\".format(test_Y[2]))"
   ]
  },
  {
   "cell_type": "code",
   "execution_count": 71,
   "id": "fd5a384b",
   "metadata": {},
   "outputs": [
    {
     "name": "stdout",
     "output_type": "stream",
     "text": [
      "Original label: 2\n",
      "After conversion to one-hot: [0. 0. 1. 0. 0. 0. 0. 0. 0. 0.]\n"
     ]
    }
   ],
   "source": [
    "train_Y_one_hot = to_categorical(train_Y)\n",
    "test_Y_one_hot = to_categorical(test_Y)\n",
    "\n",
    "# Display the change for category label using one-hot encoding\n",
    "print('Original label:', train_Y[0])\n",
    "print('After conversion to one-hot:', train_Y_one_hot[0])"
   ]
  },
  {
   "cell_type": "code",
   "execution_count": 72,
   "id": "2bd772ad",
   "metadata": {},
   "outputs": [],
   "source": [
    "from sklearn.model_selection import train_test_split\n",
    "train_X,valid_X,train_label,valid_label = train_test_split(train_X, train_Y_one_hot, test_size=0.2, random_state=13)"
   ]
  },
  {
   "cell_type": "code",
   "execution_count": 73,
   "id": "063f7a2f",
   "metadata": {},
   "outputs": [
    {
     "data": {
      "text/plain": [
       "((48000, 48, 48, 3), (12000, 48, 48, 3), (48000, 10), (12000, 10))"
      ]
     },
     "execution_count": 73,
     "metadata": {},
     "output_type": "execute_result"
    }
   ],
   "source": [
    "train_X.shape,valid_X.shape,train_label.shape,valid_label.shape"
   ]
  },
  {
   "cell_type": "code",
   "execution_count": 74,
   "id": "ceda0056",
   "metadata": {},
   "outputs": [],
   "source": [
    "from tensorflow import keras\n",
    "from keras.models import Sequential, Input, Model\n",
    "from keras.layers import Dense, Dropout, Flatten\n",
    "from keras.layers.convolutional import Conv2D\n",
    "from keras.layers.convolutional import MaxPooling2D\n",
    "from tensorflow.keras.layers import BatchNormalization\n",
    "from keras.layers.advanced_activations import LeakyReLU"
   ]
  },
  {
   "cell_type": "code",
   "execution_count": 34,
   "id": "a39e53c3",
   "metadata": {},
   "outputs": [
    {
     "name": "stdout",
     "output_type": "stream",
     "text": [
      "Model: \"sequential_9\"\n",
      "_________________________________________________________________\n",
      " Layer (type)                Output Shape              Param #   \n",
      "=================================================================\n",
      " conv2d_34 (Conv2D)          (None, 48, 48, 32)        896       \n",
      "                                                                 \n",
      " leaky_re_lu_43 (LeakyReLU)  (None, 48, 48, 32)        0         \n",
      "                                                                 \n",
      " max_pooling2d_34 (MaxPoolin  (None, 24, 24, 32)       0         \n",
      " g2D)                                                            \n",
      "                                                                 \n",
      " dropout_35 (Dropout)        (None, 24, 24, 32)        0         \n",
      "                                                                 \n",
      " conv2d_35 (Conv2D)          (None, 24, 24, 64)        18496     \n",
      "                                                                 \n",
      " leaky_re_lu_44 (LeakyReLU)  (None, 24, 24, 64)        0         \n",
      "                                                                 \n",
      " max_pooling2d_35 (MaxPoolin  (None, 12, 12, 64)       0         \n",
      " g2D)                                                            \n",
      "                                                                 \n",
      " dropout_36 (Dropout)        (None, 12, 12, 64)        0         \n",
      "                                                                 \n",
      " conv2d_36 (Conv2D)          (None, 12, 12, 128)       73856     \n",
      "                                                                 \n",
      " leaky_re_lu_45 (LeakyReLU)  (None, 12, 12, 128)       0         \n",
      "                                                                 \n",
      " max_pooling2d_36 (MaxPoolin  (None, 6, 6, 128)        0         \n",
      " g2D)                                                            \n",
      "                                                                 \n",
      " dropout_37 (Dropout)        (None, 6, 6, 128)         0         \n",
      "                                                                 \n",
      " conv2d_37 (Conv2D)          (None, 6, 6, 256)         295168    \n",
      "                                                                 \n",
      " leaky_re_lu_46 (LeakyReLU)  (None, 6, 6, 256)         0         \n",
      "                                                                 \n",
      " max_pooling2d_37 (MaxPoolin  (None, 3, 3, 256)        0         \n",
      " g2D)                                                            \n",
      "                                                                 \n",
      " dropout_38 (Dropout)        (None, 3, 3, 256)         0         \n",
      "                                                                 \n",
      " conv2d_38 (Conv2D)          (None, 3, 3, 512)         1180160   \n",
      "                                                                 \n",
      " leaky_re_lu_47 (LeakyReLU)  (None, 3, 3, 512)         0         \n",
      "                                                                 \n",
      " max_pooling2d_38 (MaxPoolin  (None, 2, 2, 512)        0         \n",
      " g2D)                                                            \n",
      "                                                                 \n",
      " dropout_39 (Dropout)        (None, 2, 2, 512)         0         \n",
      "                                                                 \n",
      " flatten_9 (Flatten)         (None, 2048)              0         \n",
      "                                                                 \n",
      " dense_18 (Dense)            (None, 512)               1049088   \n",
      "                                                                 \n",
      " leaky_re_lu_48 (LeakyReLU)  (None, 512)               0         \n",
      "                                                                 \n",
      " dropout_40 (Dropout)        (None, 512)               0         \n",
      "                                                                 \n",
      " dense_19 (Dense)            (None, 10)                5130      \n",
      "                                                                 \n",
      "=================================================================\n",
      "Total params: 2,622,794\n",
      "Trainable params: 2,622,794\n",
      "Non-trainable params: 0\n",
      "_________________________________________________________________\n"
     ]
    }
   ],
   "source": [
    "batch_size = 40\n",
    "epochs = 15\n",
    "num_classes = 10\n",
    "\n",
    "fashion_model = Sequential()\n",
    "fashion_model.add(Conv2D(32, kernel_size=(3, 3),activation='linear',input_shape=(48,48,3),padding='same'))\n",
    "fashion_model.add(LeakyReLU(alpha=0.1))\n",
    "fashion_model.add(MaxPooling2D((2, 2),padding='same'))\n",
    "fashion_model.add(Dropout(0.25))\n",
    "fashion_model.add(Conv2D(64, (3, 3), activation='linear',padding='same'))\n",
    "fashion_model.add(LeakyReLU(alpha=0.1))\n",
    "fashion_model.add(MaxPooling2D(pool_size=(2, 2),padding='same'))\n",
    "fashion_model.add(Dropout(0.25))\n",
    "fashion_model.add(Conv2D(128, (3, 3), activation='linear',padding='same'))\n",
    "fashion_model.add(LeakyReLU(alpha=0.1))                  \n",
    "fashion_model.add(MaxPooling2D(pool_size=(2, 2),padding='same'))\n",
    "fashion_model.add(Dropout(0.25))\n",
    "fashion_model.add(Conv2D(256, (3, 3), activation='linear',padding='same'))\n",
    "fashion_model.add(LeakyReLU(alpha=0.1))                  \n",
    "fashion_model.add(MaxPooling2D(pool_size=(2, 2),padding='same'))\n",
    "fashion_model.add(Dropout(0.25))\n",
    "fashion_model.add(Conv2D(512, (3, 3), activation='linear',padding='same'))\n",
    "fashion_model.add(LeakyReLU(alpha=0.1))                  \n",
    "fashion_model.add(MaxPooling2D(pool_size=(2, 2),padding='same'))\n",
    "fashion_model.add(Dropout(0.4))\n",
    "fashion_model.add(Flatten())\n",
    "fashion_model.add(Dense(512, activation='linear'))\n",
    "fashion_model.add(LeakyReLU(alpha=0.1))          \n",
    "fashion_model.add(Dropout(0.3))\n",
    "fashion_model.add(Dense(num_classes, activation='softmax'))\n",
    "\n",
    "fashion_model.compile(loss=keras.losses.categorical_crossentropy, optimizer=keras.optimizers.Adam(),metrics=['accuracy'])\n",
    "\n",
    "fashion_model.summary()"
   ]
  },
  {
   "cell_type": "code",
   "execution_count": 35,
   "id": "d9c4a954",
   "metadata": {},
   "outputs": [
    {
     "name": "stdout",
     "output_type": "stream",
     "text": [
      "Epoch 1/15\n",
      "1200/1200 [==============================] - 356s 296ms/step - loss: 0.5422 - accuracy: 0.7987 - val_loss: 0.4048 - val_accuracy: 0.8566\n",
      "Epoch 2/15\n",
      "1200/1200 [==============================] - 358s 299ms/step - loss: 0.3444 - accuracy: 0.8734 - val_loss: 0.2984 - val_accuracy: 0.8912\n",
      "Epoch 3/15\n",
      "1200/1200 [==============================] - 396s 330ms/step - loss: 0.3117 - accuracy: 0.8840 - val_loss: 0.2822 - val_accuracy: 0.8968\n",
      "Epoch 4/15\n",
      "1200/1200 [==============================] - 360s 300ms/step - loss: 0.2907 - accuracy: 0.8920 - val_loss: 0.2548 - val_accuracy: 0.9027\n",
      "Epoch 5/15\n",
      "1200/1200 [==============================] - 378s 315ms/step - loss: 0.2734 - accuracy: 0.8980 - val_loss: 0.2748 - val_accuracy: 0.8982\n",
      "Epoch 6/15\n",
      "1200/1200 [==============================] - 377s 314ms/step - loss: 0.2694 - accuracy: 0.9013 - val_loss: 0.2435 - val_accuracy: 0.9119\n",
      "Epoch 7/15\n",
      "1200/1200 [==============================] - 359s 299ms/step - loss: 0.2635 - accuracy: 0.9022 - val_loss: 0.2462 - val_accuracy: 0.9103\n",
      "Epoch 8/15\n",
      "1200/1200 [==============================] - 344s 287ms/step - loss: 0.2595 - accuracy: 0.9048 - val_loss: 0.2577 - val_accuracy: 0.9098\n",
      "Epoch 9/15\n",
      "1200/1200 [==============================] - 326s 272ms/step - loss: 0.2526 - accuracy: 0.9068 - val_loss: 0.2828 - val_accuracy: 0.9024\n",
      "Epoch 10/15\n",
      "1200/1200 [==============================] - 321s 267ms/step - loss: 0.2464 - accuracy: 0.9092 - val_loss: 0.2457 - val_accuracy: 0.9141\n",
      "Epoch 11/15\n",
      "1200/1200 [==============================] - 310s 258ms/step - loss: 0.2450 - accuracy: 0.9085 - val_loss: 0.2417 - val_accuracy: 0.9165\n",
      "Epoch 12/15\n",
      "1200/1200 [==============================] - 310s 258ms/step - loss: 0.2462 - accuracy: 0.9090 - val_loss: 0.2427 - val_accuracy: 0.9208\n",
      "Epoch 13/15\n",
      "1200/1200 [==============================] - 311s 259ms/step - loss: 0.2378 - accuracy: 0.9131 - val_loss: 0.2443 - val_accuracy: 0.9116\n",
      "Epoch 14/15\n",
      "1200/1200 [==============================] - 313s 260ms/step - loss: 0.2356 - accuracy: 0.9126 - val_loss: 0.2518 - val_accuracy: 0.9156\n",
      "Epoch 15/15\n",
      "1200/1200 [==============================] - 311s 259ms/step - loss: 0.2368 - accuracy: 0.9126 - val_loss: 0.2277 - val_accuracy: 0.9167\n"
     ]
    }
   ],
   "source": [
    "fashion_train = fashion_model.fit(train_X, train_label, batch_size=batch_size,epochs=epochs,verbose=1,validation_data=(valid_X, valid_label))"
   ]
  },
  {
   "cell_type": "code",
   "execution_count": 43,
   "id": "cb699dea",
   "metadata": {},
   "outputs": [
    {
     "name": "stdout",
     "output_type": "stream",
     "text": [
      "Test loss: 0.22028468549251556\n",
      "Test accuracy: 0.9193000197410583\n"
     ]
    },
    {
     "data": {
      "image/png": "[encoded data removed]",
      "text/plain": [
       "<Figure size 432x288 with 1 Axes>"
      ]
     },
     "metadata": {
      "needs_background": "light"
     },
     "output_type": "display_data"
    },
    {
     "data": {
      "image/png": "[encoded data removed]",
      "text/plain": [
       "<Figure size 432x288 with 1 Axes>"
      ]
     },
     "metadata": {
      "needs_background": "light"
     },
     "output_type": "display_data"
    }
   ],
   "source": [
    "test_eval = fashion_model.evaluate(test_X, test_Y_one_hot, verbose=0)\n",
    "print('Test loss:', test_eval[0])\n",
    "print('Test accuracy:', test_eval[1])\n",
    "\n",
    "accuracy = fashion_train.history['accuracy']\n",
    "val_accuracy = fashion_train.history['val_accuracy']\n",
    "loss = fashion_train.history['loss']\n",
    "val_loss = fashion_train.history['val_loss']\n",
    "epochs = range(len(accuracy))\n",
    "plt.plot(epochs, accuracy, 'bo', label='Training accuracy')\n",
    "plt.plot(epochs, val_accuracy, 'b', label='Validation accuracy')\n",
    "plt.title('Training and validation accuracy')\n",
    "plt.legend()\n",
    "plt.figure()\n",
    "plt.plot(epochs, loss, 'bo', label='Training loss')\n",
    "plt.plot(epochs, val_loss, 'b', label='Validation loss')\n",
    "plt.title('Training and validation loss')\n",
    "plt.legend()\n",
    "plt.show()"
   ]
  },
  {
   "cell_type": "code",
   "execution_count": 38,
   "id": "1b3b21c0",
   "metadata": {},
   "outputs": [
    {
     "name": "stdout",
     "output_type": "stream",
     "text": [
      "INFO:tensorflow:Assets written to: fashion_model1_dropout.h5py\\assets\n"
     ]
    }
   ],
   "source": [
    "fashion_model.save(\"fashion_model1_dropout.h5py\")"
   ]
  },
  {
   "cell_type": "code",
   "execution_count": 1,
   "id": "2f0bc479",
   "metadata": {},
   "outputs": [],
   "source": [
    "from tensorflow import keras\n"
   ]
  },
  {
   "cell_type": "code",
   "execution_count": 85,
   "id": "eaf9e2d4",
   "metadata": {},
   "outputs": [],
   "source": [
    "from tensorflow import keras\n",
    "model = keras.models.load_model('fashion_model1_dropout.h5py')"
   ]
  },
  {
   "cell_type": "code",
   "execution_count": 89,
   "id": "8ff51d92",
   "metadata": {},
   "outputs": [],
   "source": [
    "predict_classes = model.predict(test_X)"
   ]
  },
  {
   "cell_type": "code",
   "execution_count": 90,
   "id": "561f0479",
   "metadata": {},
   "outputs": [],
   "source": [
    "predict_classes = np.argmax(np.round(predict_classes),axis=1)"
   ]
  },
  {
   "cell_type": "code",
   "execution_count": 91,
   "id": "14ce09a6",
   "metadata": {},
   "outputs": [
    {
     "data": {
      "text/plain": [
       "(10000,)"
      ]
     },
     "execution_count": 91,
     "metadata": {},
     "output_type": "execute_result"
    }
   ],
   "source": [
    "predict_classes.shape"
   ]
  },
  {
   "cell_type": "code",
   "execution_count": 92,
   "id": "4b8c9f9c",
   "metadata": {},
   "outputs": [
    {
     "name": "stdout",
     "output_type": "stream",
     "text": [
      "              precision    recall  f1-score   support\n",
      "\n",
      "     Class 0       0.92      0.57      0.70      1000\n",
      "     Class 1       0.90      0.99      0.94      1000\n",
      "     Class 2       0.92      0.65      0.76      1000\n",
      "     Class 3       0.95      0.76      0.84      1000\n",
      "     Class 4       0.72      0.91      0.80      1000\n",
      "     Class 5       0.97      0.96      0.96      1000\n",
      "     Class 6       0.56      0.80      0.66      1000\n",
      "     Class 7       0.97      0.86      0.91      1000\n",
      "     Class 8       0.88      0.99      0.93      1000\n",
      "     Class 9       0.91      0.97      0.94      1000\n",
      "\n",
      "    accuracy                           0.85     10000\n",
      "   macro avg       0.87      0.85      0.85     10000\n",
      "weighted avg       0.87      0.85      0.85     10000\n",
      "\n"
     ]
    }
   ],
   "source": [
    "from sklearn.metrics import classification_report\n",
    "target_names = [\"Class {}\".format(i) for i in range(num_classes)]\n",
    "print(classification_report(test_Y, predict_classes, target_names=target_names))"
   ]
  },
  {
   "cell_type": "code",
   "execution_count": 99,
   "id": "f5998a3d",
   "metadata": {},
   "outputs": [
    {
     "name": "stdout",
     "output_type": "stream",
     "text": [
      "Found correct labels 8458\n"
     ]
    },
    {
     "data": {
      "image/png": "[encoded data removed]",
      "text/plain": [
       "<Figure size 432x288 with 4 Axes>"
      ]
     },
     "metadata": {
      "needs_background": "light"
     },
     "output_type": "display_data"
    }
   ],
   "source": [
    "correct = np.where(predict_classes==test_Y)[0]\n",
    "print (\"Found correct labels\" ,len(correct))\n",
    "for i, correct in enumerate(correct[:4]):\n",
    "    plt.subplot(4,1,i+1)\n",
    "    plt.imshow(test_X[correct].reshape(28,28), cmap='gray', interpolation='none')\n",
    "    plt.title(\"Predicted {}, Class {}\".format(predict_classes[correct], test_Y[correct]))\n",
    "    plt.tight_layout()"
   ]
  },
  {
   "cell_type": "code",
   "execution_count": 100,
   "id": "c5524cae",
   "metadata": {},
   "outputs": [
    {
     "name": "stdout",
     "output_type": "stream",
     "text": [
      "Found correct labels 1542\n"
     ]
    }
   ],
   "source": [
    "correct = np.where(predict_classes!=test_Y)[0]\n",
    "print (\"Found correct labels\" ,len(correct))"
   ]
  },
  {
   "cell_type": "markdown",
   "id": "416af3bc",
   "metadata": {},
   "source": [
    "# VGG16"
   ]
  },
  {
   "cell_type": "code",
   "execution_count": 52,
   "id": "d1e5ff5c",
   "metadata": {},
   "outputs": [],
   "source": [
    "# Read csv data files\n",
    "train_data = pd.read_csv('fashion-mnist_train.csv')\n",
    "test_data = pd.read_csv('fashion-mnist_test.csv')"
   ]
  },
  {
   "cell_type": "code",
   "execution_count": 53,
   "id": "2a550cc0",
   "metadata": {},
   "outputs": [],
   "source": [
    "train_X= np.array(train_data.iloc[:,1:])\n",
    "test_X= np.array(test_data.iloc[:,1:])\n",
    "train_Y= np.array (train_data.iloc[:,0]) # (60000,)\n",
    "test_Y = np.array(test_data.iloc[:,0]) #(10000,)\n",
    "classes = np.unique(train_Y)\n",
    "num_classes = len(classes)"
   ]
  },
  {
   "cell_type": "code",
   "execution_count": 54,
   "id": "5959df8a",
   "metadata": {},
   "outputs": [
    {
     "data": {
      "text/plain": [
       "((60000, 784, 3), (10000, 784, 3))"
      ]
     },
     "execution_count": 54,
     "metadata": {},
     "output_type": "execute_result"
    }
   ],
   "source": [
    "# Convert the images into 3 channels\n",
    "train_X=np.dstack([train_X] * 3)\n",
    "test_X=np.dstack([test_X]*3)\n",
    "train_X.shape,test_X.shape"
   ]
  },
  {
   "cell_type": "code",
   "execution_count": 55,
   "id": "d47f3625",
   "metadata": {},
   "outputs": [
    {
     "data": {
      "text/plain": [
       "((60000, 28, 28, 3), (10000, 28, 28, 3))"
      ]
     },
     "execution_count": 55,
     "metadata": {},
     "output_type": "execute_result"
    }
   ],
   "source": [
    "# Reshape images as per the tensor format required by tensorflow\n",
    "train_X = train_X.reshape(-1, 28,28,3)\n",
    "test_X= test_X.reshape (-1,28,28,3)\n",
    "train_X.shape,test_X.shape"
   ]
  },
  {
   "cell_type": "code",
   "execution_count": 57,
   "id": "c117ee57",
   "metadata": {},
   "outputs": [
    {
     "data": {
      "text/plain": [
       "((60000, 48, 48, 3), (10000, 48, 48, 3))"
      ]
     },
     "execution_count": 57,
     "metadata": {},
     "output_type": "execute_result"
    }
   ],
   "source": [
    "# Resize the images 48*48 as required by VGG16\n",
    "from keras.preprocessing.image import img_to_array, array_to_img\n",
    "train_X = np.asarray([img_to_array(array_to_img(im, scale=False).resize((48,48))) for im in train_X])\n",
    "test_X = np.asarray([img_to_array(array_to_img(im, scale=False).resize((48,48))) for im in test_X])\n",
    "#train_x = preprocess_input(x)\n",
    "train_X.shape, test_X.shape"
   ]
  },
  {
   "cell_type": "code",
   "execution_count": 58,
   "id": "ca5a8a2a",
   "metadata": {},
   "outputs": [],
   "source": [
    "# Normalise the data and change data type\n",
    "train_X = train_X / 255.\n",
    "test_X = test_X / 255.\n",
    "train_X = train_X.astype('float32')\n",
    "test_X = test_X.astype('float32')"
   ]
  },
  {
   "cell_type": "code",
   "execution_count": 59,
   "id": "ecbdefc8",
   "metadata": {},
   "outputs": [],
   "source": [
    "# Converting Labels to one hot encoded format\n",
    "train_Y_one_hot = to_categorical(train_Y)\n",
    "test_Y_one_hot = to_categorical(test_Y)"
   ]
  },
  {
   "cell_type": "code",
   "execution_count": 60,
   "id": "eeedb11b",
   "metadata": {},
   "outputs": [],
   "source": [
    "# Splitting train data as train and validation data\n",
    "train_X,valid_X,train_label,valid_label = train_test_split(train_X,\n",
    "                                                           train_Y_one_hot,\n",
    "                                                           test_size=0.2,\n",
    "                                                           random_state=13\n",
    "                                                           )"
   ]
  },
  {
   "cell_type": "code",
   "execution_count": 61,
   "id": "3cf21164",
   "metadata": {},
   "outputs": [],
   "source": [
    "# Preprocessing the input \n",
    "train_X = preprocess_input(train_X)\n",
    "valid_X = preprocess_input(valid_X)\n",
    "test_X  = preprocess_input (test_X)\n",
    "#The images are converted from RGB to BGR,\n",
    "#then each color channel is zero-centered with respect to the ImageNet dataset, without scaling."
   ]
  },
  {
   "cell_type": "code",
   "execution_count": 63,
   "id": "34361cb8",
   "metadata": {},
   "outputs": [
    {
     "name": "stdout",
     "output_type": "stream",
     "text": [
      "Downloading data from https://storage.googleapis.com/tensorflow/keras-applications/vgg16/vgg16_weights_tf_dim_ordering_tf_kernels_notop.h5\n",
      "58892288/58889256 [==============================] - 52s 1us/step\n",
      "58900480/58889256 [==============================] - 52s 1us/step\n",
      "Model: \"vgg16\"\n",
      "_________________________________________________________________\n",
      " Layer (type)                Output Shape              Param #   \n",
      "=================================================================\n",
      " input_1 (InputLayer)        [(None, 48, 48, 3)]       0         \n",
      "                                                                 \n",
      " block1_conv1 (Conv2D)       (None, 48, 48, 64)        1792      \n",
      "                                                                 \n",
      " block1_conv2 (Conv2D)       (None, 48, 48, 64)        36928     \n",
      "                                                                 \n",
      " block1_pool (MaxPooling2D)  (None, 24, 24, 64)        0         \n",
      "                                                                 \n",
      " block2_conv1 (Conv2D)       (None, 24, 24, 128)       73856     \n",
      "                                                                 \n",
      " block2_conv2 (Conv2D)       (None, 24, 24, 128)       147584    \n",
      "                                                                 \n",
      " block2_pool (MaxPooling2D)  (None, 12, 12, 128)       0         \n",
      "                                                                 \n",
      " block3_conv1 (Conv2D)       (None, 12, 12, 256)       295168    \n",
      "                                                                 \n",
      " block3_conv2 (Conv2D)       (None, 12, 12, 256)       590080    \n",
      "                                                                 \n",
      " block3_conv3 (Conv2D)       (None, 12, 12, 256)       590080    \n",
      "                                                                 \n",
      " block3_pool (MaxPooling2D)  (None, 6, 6, 256)         0         \n",
      "                                                                 \n",
      " block4_conv1 (Conv2D)       (None, 6, 6, 512)         1180160   \n",
      "                                                                 \n",
      " block4_conv2 (Conv2D)       (None, 6, 6, 512)         2359808   \n",
      "                                                                 \n",
      " block4_conv3 (Conv2D)       (None, 6, 6, 512)         2359808   \n",
      "                                                                 \n",
      " block4_pool (MaxPooling2D)  (None, 3, 3, 512)         0         \n",
      "                                                                 \n",
      " block5_conv1 (Conv2D)       (None, 3, 3, 512)         2359808   \n",
      "                                                                 \n",
      " block5_conv2 (Conv2D)       (None, 3, 3, 512)         2359808   \n",
      "                                                                 \n",
      " block5_conv3 (Conv2D)       (None, 3, 3, 512)         2359808   \n",
      "                                                                 \n",
      " block5_pool (MaxPooling2D)  (None, 1, 1, 512)         0         \n",
      "                                                                 \n",
      "=================================================================\n",
      "Total params: 14,714,688\n",
      "Trainable params: 14,714,688\n",
      "Non-trainable params: 0\n",
      "_________________________________________________________________\n"
     ]
    }
   ],
   "source": [
    "#  Create base model of VGG16\n",
    "conv_base = VGG16(\n",
    "                  include_top=False, \n",
    "                  input_shape=(48, 48, 3)\n",
    "                 )\n",
    "conv_base.summary()"
   ]
  },
  {
   "cell_type": "code",
   "execution_count": 65,
   "id": "0b222682",
   "metadata": {},
   "outputs": [
    {
     "name": "stdout",
     "output_type": "stream",
     "text": [
      "1200/1200 [==============================] - 322s 268ms/step\n",
      "250/250 [==============================] - 66s 265ms/step\n",
      "300/300 [==============================] - 79s 262ms/step\n"
     ]
    }
   ],
   "source": [
    "# Extracting features\n",
    "train_features = conv_base.predict(np.array(train_X), batch_size=40, verbose=1)\n",
    "test_features = conv_base.predict(np.array(test_X), batch_size=40, verbose=1)\n",
    "val_features = conv_base.predict(np.array(valid_X), batch_size=40, verbose=1)"
   ]
  },
  {
   "cell_type": "code",
   "execution_count": 66,
   "id": "bfdbb564",
   "metadata": {},
   "outputs": [],
   "source": [
    "np.savez(\"train_features\", train_features, train_label)\n",
    "np.savez(\"test_features\", test_features, test_Y)\n",
    "np.savez(\"val_features\", val_features, valid_label)"
   ]
  },
  {
   "cell_type": "code",
   "execution_count": 67,
   "id": "cdd5f308",
   "metadata": {},
   "outputs": [],
   "source": [
    "# Flatten extracted features\n",
    "train_features_flat = np.reshape(train_features, (48000, 1*1*512))\n",
    "test_features_flat = np.reshape(test_features, (10000, 1*1*512))\n",
    "val_features_flat = np.reshape(val_features, (12000, 1*1*512))"
   ]
  },
  {
   "cell_type": "code",
   "execution_count": 68,
   "id": "d38bd69e",
   "metadata": {},
   "outputs": [],
   "source": [
    "from keras import models\n",
    "from keras.models import Model\n",
    "from keras import layers\n",
    "from keras import optimizers\n",
    "from keras import callbacks\n",
    "from keras.layers.advanced_activations import LeakyReLU"
   ]
  },
  {
   "cell_type": "code",
   "execution_count": 69,
   "id": "a377548a",
   "metadata": {},
   "outputs": [],
   "source": [
    "NB_TRAIN_SAMPLES = train_features_flat.shape[0] #=48000\n",
    "NB_VALIDATION_SAMPLES = val_features_flat.shape[0] #=12000\n",
    "model = models.Sequential()\n",
    "model.add(layers.Dense(512, activation='relu', input_dim=(1*1*512)))\n",
    "model.add(layers.LeakyReLU(alpha=0.1))\n",
    "model.add(layers.Dense(num_classes, activation='softmax'))"
   ]
  },
  {
   "cell_type": "code",
   "execution_count": 70,
   "id": "f4173259",
   "metadata": {},
   "outputs": [
    {
     "data": {
      "text/plain": [
       "10"
      ]
     },
     "execution_count": 70,
     "metadata": {},
     "output_type": "execute_result"
    }
   ],
   "source": [
    "num_classes"
   ]
  },
  {
   "cell_type": "code",
   "execution_count": 71,
   "id": "0d36ada8",
   "metadata": {},
   "outputs": [],
   "source": [
    "# Compile the model.\n",
    "model.compile(\n",
    "    loss='categorical_crossentropy',\n",
    "    optimizer=keras.optimizers.Adam(),\n",
    "    metrics=['accuracy'])"
   ]
  },
  {
   "cell_type": "code",
   "execution_count": 74,
   "id": "775c5d1c",
   "metadata": {},
   "outputs": [
    {
     "name": "stdout",
     "output_type": "stream",
     "text": [
      "Epoch 1/100\n",
      "1500/1500 [==============================] - 5s 3ms/step - loss: 0.7043 - accuracy: 0.7431 - val_loss: 0.7261 - val_accuracy: 0.7386\n",
      "Epoch 2/100\n",
      "1500/1500 [==============================] - 5s 3ms/step - loss: 0.7076 - accuracy: 0.7409 - val_loss: 0.7453 - val_accuracy: 0.7164\n",
      "Epoch 3/100\n",
      "1500/1500 [==============================] - 5s 3ms/step - loss: 0.7003 - accuracy: 0.7437 - val_loss: 0.6905 - val_accuracy: 0.7524\n",
      "Epoch 4/100\n",
      "1500/1500 [==============================] - 5s 3ms/step - loss: 0.7044 - accuracy: 0.7426 - val_loss: 0.7062 - val_accuracy: 0.7450\n",
      "Epoch 5/100\n",
      "1500/1500 [==============================] - 5s 4ms/step - loss: 0.7027 - accuracy: 0.7435 - val_loss: 0.7369 - val_accuracy: 0.7275\n",
      "Epoch 6/100\n",
      "1500/1500 [==============================] - 5s 3ms/step - loss: 0.6991 - accuracy: 0.7441 - val_loss: 0.6943 - val_accuracy: 0.7451\n",
      "Epoch 7/100\n",
      "1500/1500 [==============================] - 5s 3ms/step - loss: 0.6990 - accuracy: 0.7442 - val_loss: 0.6979 - val_accuracy: 0.7411\n",
      "Epoch 8/100\n",
      "1500/1500 [==============================] - 5s 3ms/step - loss: 0.6977 - accuracy: 0.7445 - val_loss: 0.7206 - val_accuracy: 0.7386\n",
      "Epoch 9/100\n",
      "1500/1500 [==============================] - 5s 3ms/step - loss: 0.6961 - accuracy: 0.7470 - val_loss: 0.7028 - val_accuracy: 0.7437\n",
      "Epoch 10/100\n",
      "1500/1500 [==============================] - 5s 3ms/step - loss: 0.6955 - accuracy: 0.7470 - val_loss: 0.7398 - val_accuracy: 0.7355\n",
      "Epoch 11/100\n",
      "1500/1500 [==============================] - 5s 3ms/step - loss: 0.6955 - accuracy: 0.7467 - val_loss: 0.7229 - val_accuracy: 0.7341\n",
      "Epoch 12/100\n",
      "1500/1500 [==============================] - 5s 3ms/step - loss: 0.6965 - accuracy: 0.7436 - val_loss: 0.6939 - val_accuracy: 0.7487\n",
      "Epoch 13/100\n",
      "1500/1500 [==============================] - 5s 3ms/step - loss: 0.6939 - accuracy: 0.7477 - val_loss: 0.7435 - val_accuracy: 0.7303\n",
      "Epoch 14/100\n",
      "1500/1500 [==============================] - 10s 6ms/step - loss: 0.6955 - accuracy: 0.7452 - val_loss: 0.6822 - val_accuracy: 0.7533\n",
      "Epoch 15/100\n",
      "1500/1500 [==============================] - 9s 6ms/step - loss: 0.6933 - accuracy: 0.7464 - val_loss: 0.7029 - val_accuracy: 0.7452\n",
      "Epoch 16/100\n",
      "1500/1500 [==============================] - 9s 6ms/step - loss: 0.6905 - accuracy: 0.7476 - val_loss: 0.7054 - val_accuracy: 0.7450\n",
      "Epoch 17/100\n",
      "1500/1500 [==============================] - 9s 6ms/step - loss: 0.6903 - accuracy: 0.7476 - val_loss: 0.7027 - val_accuracy: 0.7476\n",
      "Epoch 18/100\n",
      "1500/1500 [==============================] - 9s 6ms/step - loss: 0.6905 - accuracy: 0.7476 - val_loss: 0.6789 - val_accuracy: 0.7523\n",
      "Epoch 19/100\n",
      "1500/1500 [==============================] - 9s 6ms/step - loss: 0.6888 - accuracy: 0.7491 - val_loss: 0.7265 - val_accuracy: 0.7403\n",
      "Epoch 20/100\n",
      "1500/1500 [==============================] - 5s 3ms/step - loss: 0.6879 - accuracy: 0.7481 - val_loss: 0.7604 - val_accuracy: 0.7268\n",
      "Epoch 21/100\n",
      "1500/1500 [==============================] - 5s 3ms/step - loss: 0.6840 - accuracy: 0.7513 - val_loss: 0.6723 - val_accuracy: 0.7563\n",
      "Epoch 22/100\n",
      "1500/1500 [==============================] - 5s 3ms/step - loss: 0.6836 - accuracy: 0.7491 - val_loss: 0.6858 - val_accuracy: 0.7514\n",
      "Epoch 23/100\n",
      "1500/1500 [==============================] - 5s 4ms/step - loss: 0.6832 - accuracy: 0.7495 - val_loss: 0.7600 - val_accuracy: 0.7126\n",
      "Epoch 24/100\n",
      "1500/1500 [==============================] - 5s 3ms/step - loss: 0.6799 - accuracy: 0.7510 - val_loss: 0.6891 - val_accuracy: 0.7492\n",
      "Epoch 25/100\n",
      "1500/1500 [==============================] - 5s 3ms/step - loss: 0.6839 - accuracy: 0.7476 - val_loss: 0.7378 - val_accuracy: 0.7333\n",
      "Epoch 26/100\n",
      "1500/1500 [==============================] - 5s 3ms/step - loss: 0.6796 - accuracy: 0.7522 - val_loss: 0.6854 - val_accuracy: 0.7438\n",
      "Epoch 27/100\n",
      "1500/1500 [==============================] - 5s 3ms/step - loss: 0.6817 - accuracy: 0.7518 - val_loss: 0.7481 - val_accuracy: 0.7228\n",
      "Epoch 28/100\n",
      "1500/1500 [==============================] - 5s 3ms/step - loss: 0.6795 - accuracy: 0.7522 - val_loss: 0.6745 - val_accuracy: 0.7546\n",
      "Epoch 29/100\n",
      "1500/1500 [==============================] - 5s 3ms/step - loss: 0.6759 - accuracy: 0.7533 - val_loss: 0.6687 - val_accuracy: 0.7592\n",
      "Epoch 30/100\n",
      "1500/1500 [==============================] - 5s 3ms/step - loss: 0.6765 - accuracy: 0.7516 - val_loss: 0.7250 - val_accuracy: 0.7375\n",
      "Epoch 31/100\n",
      "1500/1500 [==============================] - 5s 3ms/step - loss: 0.6769 - accuracy: 0.7519 - val_loss: 0.7092 - val_accuracy: 0.7392\n",
      "Epoch 32/100\n",
      "1500/1500 [==============================] - 5s 3ms/step - loss: 0.6769 - accuracy: 0.7518 - val_loss: 0.7111 - val_accuracy: 0.7414\n",
      "Epoch 33/100\n",
      "1500/1500 [==============================] - 5s 3ms/step - loss: 0.6748 - accuracy: 0.7557 - val_loss: 0.6716 - val_accuracy: 0.7536\n",
      "Epoch 34/100\n",
      "1500/1500 [==============================] - 5s 3ms/step - loss: 0.6744 - accuracy: 0.7539 - val_loss: 0.6843 - val_accuracy: 0.7508\n",
      "Epoch 35/100\n",
      "1500/1500 [==============================] - 5s 3ms/step - loss: 0.6711 - accuracy: 0.7552 - val_loss: 0.6856 - val_accuracy: 0.7479\n",
      "Epoch 36/100\n",
      "1500/1500 [==============================] - 5s 3ms/step - loss: 0.6739 - accuracy: 0.7536 - val_loss: 0.6785 - val_accuracy: 0.7542\n",
      "Epoch 37/100\n",
      "1500/1500 [==============================] - 5s 3ms/step - loss: 0.6767 - accuracy: 0.7527 - val_loss: 0.7024 - val_accuracy: 0.7448\n",
      "Epoch 38/100\n",
      "1500/1500 [==============================] - 5s 3ms/step - loss: 0.6745 - accuracy: 0.7542 - val_loss: 0.6889 - val_accuracy: 0.7524\n",
      "Epoch 39/100\n",
      "1500/1500 [==============================] - 5s 3ms/step - loss: 0.6724 - accuracy: 0.7548 - val_loss: 0.6673 - val_accuracy: 0.7648\n",
      "Epoch 40/100\n",
      "1500/1500 [==============================] - 5s 3ms/step - loss: 0.6692 - accuracy: 0.7566 - val_loss: 0.6901 - val_accuracy: 0.7506\n",
      "Epoch 41/100\n",
      "1500/1500 [==============================] - 5s 3ms/step - loss: 0.6709 - accuracy: 0.7537 - val_loss: 0.6753 - val_accuracy: 0.7488\n",
      "Epoch 42/100\n",
      "1500/1500 [==============================] - 5s 3ms/step - loss: 0.6700 - accuracy: 0.7545 - val_loss: 0.6870 - val_accuracy: 0.7469\n",
      "Epoch 43/100\n",
      "1500/1500 [==============================] - 5s 3ms/step - loss: 0.6647 - accuracy: 0.7556 - val_loss: 0.7324 - val_accuracy: 0.7308\n",
      "Epoch 44/100\n",
      "1500/1500 [==============================] - 5s 3ms/step - loss: 0.6666 - accuracy: 0.7565 - val_loss: 0.6829 - val_accuracy: 0.7523\n",
      "Epoch 45/100\n",
      "1500/1500 [==============================] - 5s 3ms/step - loss: 0.6675 - accuracy: 0.7553 - val_loss: 0.6932 - val_accuracy: 0.7532\n",
      "Epoch 46/100\n",
      "1500/1500 [==============================] - 5s 3ms/step - loss: 0.6650 - accuracy: 0.7584 - val_loss: 0.6743 - val_accuracy: 0.7579\n",
      "Epoch 47/100\n",
      "1500/1500 [==============================] - 5s 3ms/step - loss: 0.6677 - accuracy: 0.7572 - val_loss: 0.6876 - val_accuracy: 0.7579\n",
      "Epoch 48/100\n",
      "1500/1500 [==============================] - 5s 3ms/step - loss: 0.6659 - accuracy: 0.7577 - val_loss: 0.6834 - val_accuracy: 0.7558\n",
      "Epoch 49/100\n",
      "1500/1500 [==============================] - 5s 3ms/step - loss: 0.6647 - accuracy: 0.7580 - val_loss: 0.6865 - val_accuracy: 0.7508\n",
      "Epoch 50/100\n",
      "1500/1500 [==============================] - 5s 3ms/step - loss: 0.6664 - accuracy: 0.7563 - val_loss: 0.6818 - val_accuracy: 0.7502\n",
      "Epoch 51/100\n",
      "1500/1500 [==============================] - 5s 3ms/step - loss: 0.6663 - accuracy: 0.7573 - val_loss: 0.6997 - val_accuracy: 0.7477\n",
      "Epoch 52/100\n",
      "1500/1500 [==============================] - 5s 4ms/step - loss: 0.6658 - accuracy: 0.7580 - val_loss: 0.6561 - val_accuracy: 0.7614\n",
      "Epoch 53/100\n",
      "1500/1500 [==============================] - 5s 3ms/step - loss: 0.6651 - accuracy: 0.7566 - val_loss: 0.6745 - val_accuracy: 0.7592\n",
      "Epoch 54/100\n",
      "1500/1500 [==============================] - 7s 5ms/step - loss: 0.6649 - accuracy: 0.7557 - val_loss: 0.6774 - val_accuracy: 0.7599\n",
      "Epoch 55/100\n",
      "1500/1500 [==============================] - 6s 4ms/step - loss: 0.6620 - accuracy: 0.7597 - val_loss: 0.6931 - val_accuracy: 0.7470\n",
      "Epoch 56/100\n",
      "1500/1500 [==============================] - 5s 4ms/step - loss: 0.6619 - accuracy: 0.7575 - val_loss: 0.6837 - val_accuracy: 0.7530\n",
      "Epoch 57/100\n",
      "1500/1500 [==============================] - 5s 3ms/step - loss: 0.6650 - accuracy: 0.7572 - val_loss: 0.6788 - val_accuracy: 0.7552\n",
      "Epoch 58/100\n",
      "1500/1500 [==============================] - 5s 3ms/step - loss: 0.6611 - accuracy: 0.7584 - val_loss: 0.6908 - val_accuracy: 0.7519\n",
      "Epoch 59/100\n",
      "1500/1500 [==============================] - 6s 4ms/step - loss: 0.6612 - accuracy: 0.7590 - val_loss: 0.6849 - val_accuracy: 0.7526\n",
      "Epoch 60/100\n",
      "1500/1500 [==============================] - 5s 3ms/step - loss: 0.6588 - accuracy: 0.7604 - val_loss: 0.7008 - val_accuracy: 0.7502\n",
      "Epoch 61/100\n",
      "1500/1500 [==============================] - 5s 3ms/step - loss: 0.6632 - accuracy: 0.7579 - val_loss: 0.6623 - val_accuracy: 0.7598\n",
      "Epoch 62/100\n",
      "1500/1500 [==============================] - 5s 3ms/step - loss: 0.6587 - accuracy: 0.7600 - val_loss: 0.6802 - val_accuracy: 0.7461\n",
      "Epoch 63/100\n",
      "1500/1500 [==============================] - 5s 3ms/step - loss: 0.6589 - accuracy: 0.7594 - val_loss: 0.6648 - val_accuracy: 0.7592\n",
      "Epoch 64/100\n",
      "1500/1500 [==============================] - 5s 3ms/step - loss: 0.6585 - accuracy: 0.7607 - val_loss: 0.6885 - val_accuracy: 0.7469\n",
      "Epoch 65/100\n",
      "1500/1500 [==============================] - 5s 3ms/step - loss: 0.6557 - accuracy: 0.7598 - val_loss: 0.7033 - val_accuracy: 0.7455\n",
      "Epoch 66/100\n",
      "1500/1500 [==============================] - 5s 3ms/step - loss: 0.6644 - accuracy: 0.7549 - val_loss: 0.6746 - val_accuracy: 0.7591\n",
      "Epoch 67/100\n",
      "1500/1500 [==============================] - 5s 3ms/step - loss: 0.6603 - accuracy: 0.7586 - val_loss: 0.6873 - val_accuracy: 0.7539\n",
      "Epoch 68/100\n",
      "1500/1500 [==============================] - 5s 4ms/step - loss: 0.6588 - accuracy: 0.7586 - val_loss: 0.6476 - val_accuracy: 0.7679\n",
      "Epoch 69/100\n",
      "1500/1500 [==============================] - 5s 3ms/step - loss: 0.6548 - accuracy: 0.7613 - val_loss: 0.6817 - val_accuracy: 0.7542\n",
      "Epoch 70/100\n",
      "1500/1500 [==============================] - 5s 3ms/step - loss: 0.6531 - accuracy: 0.7620 - val_loss: 0.7156 - val_accuracy: 0.7368\n",
      "Epoch 71/100\n",
      "1500/1500 [==============================] - 5s 3ms/step - loss: 0.6575 - accuracy: 0.7597 - val_loss: 0.6630 - val_accuracy: 0.7584\n",
      "Epoch 72/100\n",
      "1500/1500 [==============================] - 5s 3ms/step - loss: 0.6550 - accuracy: 0.7609 - val_loss: 0.6579 - val_accuracy: 0.7618\n",
      "Epoch 73/100\n",
      "1500/1500 [==============================] - 5s 3ms/step - loss: 0.6525 - accuracy: 0.7617 - val_loss: 0.6723 - val_accuracy: 0.7541\n",
      "Epoch 74/100\n",
      "1500/1500 [==============================] - 5s 3ms/step - loss: 0.6530 - accuracy: 0.7621 - val_loss: 0.6610 - val_accuracy: 0.7623\n",
      "Epoch 75/100\n",
      "1500/1500 [==============================] - 5s 3ms/step - loss: 0.6560 - accuracy: 0.7605 - val_loss: 0.6805 - val_accuracy: 0.7495\n",
      "Epoch 76/100\n",
      "1500/1500 [==============================] - 5s 3ms/step - loss: 0.6524 - accuracy: 0.7611 - val_loss: 0.6627 - val_accuracy: 0.7597\n",
      "Epoch 77/100\n",
      "1500/1500 [==============================] - 5s 3ms/step - loss: 0.6530 - accuracy: 0.7610 - val_loss: 0.6750 - val_accuracy: 0.7513\n",
      "Epoch 78/100\n",
      "1500/1500 [==============================] - 5s 3ms/step - loss: 0.6578 - accuracy: 0.7589 - val_loss: 0.6785 - val_accuracy: 0.7483\n",
      "Epoch 79/100\n",
      "1500/1500 [==============================] - 5s 4ms/step - loss: 0.6527 - accuracy: 0.7623 - val_loss: 0.6781 - val_accuracy: 0.7523\n",
      "Epoch 80/100\n",
      "1500/1500 [==============================] - 5s 3ms/step - loss: 0.6530 - accuracy: 0.7613 - val_loss: 0.6656 - val_accuracy: 0.7543\n",
      "Epoch 81/100\n",
      "1500/1500 [==============================] - 5s 3ms/step - loss: 0.6517 - accuracy: 0.7623 - val_loss: 0.6684 - val_accuracy: 0.7590\n",
      "Epoch 82/100\n",
      "1500/1500 [==============================] - 5s 3ms/step - loss: 0.6499 - accuracy: 0.7615 - val_loss: 0.6579 - val_accuracy: 0.7657\n",
      "Epoch 83/100\n",
      "1500/1500 [==============================] - 5s 3ms/step - loss: 0.6511 - accuracy: 0.7616 - val_loss: 0.7105 - val_accuracy: 0.7312\n",
      "Epoch 84/100\n",
      "1500/1500 [==============================] - 5s 3ms/step - loss: 0.6498 - accuracy: 0.7628 - val_loss: 0.6649 - val_accuracy: 0.7558\n",
      "Epoch 85/100\n",
      "1500/1500 [==============================] - 5s 4ms/step - loss: 0.6487 - accuracy: 0.7624 - val_loss: 0.6692 - val_accuracy: 0.7573\n",
      "Epoch 86/100\n",
      "1500/1500 [==============================] - 6s 4ms/step - loss: 0.6502 - accuracy: 0.7628 - val_loss: 0.6719 - val_accuracy: 0.7556\n",
      "Epoch 87/100\n",
      "1500/1500 [==============================] - 5s 3ms/step - loss: 0.6489 - accuracy: 0.7620 - val_loss: 0.6604 - val_accuracy: 0.7626\n",
      "Epoch 88/100\n",
      "1500/1500 [==============================] - 5s 4ms/step - loss: 0.6506 - accuracy: 0.7632 - val_loss: 0.6782 - val_accuracy: 0.7516\n",
      "Epoch 89/100\n",
      "1500/1500 [==============================] - 5s 3ms/step - loss: 0.6488 - accuracy: 0.7629 - val_loss: 0.6798 - val_accuracy: 0.7553\n",
      "Epoch 90/100\n",
      "1500/1500 [==============================] - 5s 3ms/step - loss: 0.6486 - accuracy: 0.7636 - val_loss: 0.6463 - val_accuracy: 0.7638\n",
      "Epoch 91/100\n",
      "1500/1500 [==============================] - 5s 3ms/step - loss: 0.6471 - accuracy: 0.7626 - val_loss: 0.6509 - val_accuracy: 0.7603\n",
      "Epoch 92/100\n",
      "1500/1500 [==============================] - 5s 3ms/step - loss: 0.6474 - accuracy: 0.7629 - val_loss: 0.6572 - val_accuracy: 0.7648\n",
      "Epoch 93/100\n",
      "1500/1500 [==============================] - 5s 3ms/step - loss: 0.6468 - accuracy: 0.7624 - val_loss: 0.6938 - val_accuracy: 0.7452\n",
      "Epoch 94/100\n",
      "1500/1500 [==============================] - 5s 3ms/step - loss: 0.6461 - accuracy: 0.7634 - val_loss: 0.6601 - val_accuracy: 0.7618\n",
      "Epoch 95/100\n",
      "1500/1500 [==============================] - 5s 3ms/step - loss: 0.6428 - accuracy: 0.7650 - val_loss: 0.6663 - val_accuracy: 0.7610\n",
      "Epoch 96/100\n",
      "1500/1500 [==============================] - 5s 3ms/step - loss: 0.6454 - accuracy: 0.7644 - val_loss: 0.6495 - val_accuracy: 0.7639\n",
      "Epoch 97/100\n",
      "1500/1500 [==============================] - 5s 4ms/step - loss: 0.6475 - accuracy: 0.7644 - val_loss: 0.6818 - val_accuracy: 0.7522\n",
      "Epoch 98/100\n",
      "1500/1500 [==============================] - 5s 3ms/step - loss: 0.6416 - accuracy: 0.7651 - val_loss: 0.6733 - val_accuracy: 0.7470\n",
      "Epoch 99/100\n",
      "1500/1500 [==============================] - 5s 3ms/step - loss: 0.6448 - accuracy: 0.7637 - val_loss: 0.6504 - val_accuracy: 0.7640\n",
      "Epoch 100/100\n",
      "1500/1500 [==============================] - 5s 3ms/step - loss: 0.6432 - accuracy: 0.7650 - val_loss: 0.6627 - val_accuracy: 0.7637\n"
     ]
    }
   ],
   "source": [
    "# Train the the model\n",
    "history = model.fit(\n",
    "    train_features_flat,\n",
    "    train_label,\n",
    "    epochs=100,\n",
    "    validation_data=(val_features_flat, valid_label)\n",
    ")"
   ]
  },
  {
   "cell_type": "code",
   "execution_count": 101,
   "id": "a7f2b12b",
   "metadata": {},
   "outputs": [
    {
     "name": "stdout",
     "output_type": "stream",
     "text": [
      "INFO:tensorflow:Assets written to: model.h5py\\assets\n"
     ]
    }
   ],
   "source": [
    "model.save(\"model.h5py\")"
   ]
  },
  {
   "cell_type": "code",
   "execution_count": 75,
   "id": "41463e21",
   "metadata": {},
   "outputs": [
    {
     "name": "stdout",
     "output_type": "stream",
     "text": [
      "Test loss: 0.648061990737915\n",
      "Test accuracy: 0.7678999900817871\n"
     ]
    },
    {
     "data": {
      "image/png": "[encoded data removed]",
      "text/plain": [
       "<Figure size 432x288 with 1 Axes>"
      ]
     },
     "metadata": {
      "needs_background": "light"
     },
     "output_type": "display_data"
    },
    {
     "data": {
      "image/png": "[encoded data removed]",
      "text/plain": [
       "<Figure size 432x288 with 1 Axes>"
      ]
     },
     "metadata": {
      "needs_background": "light"
     },
     "output_type": "display_data"
    }
   ],
   "source": [
    "test_eval = model.evaluate(test_features_flat, test_Y_one_hot, verbose=0)\n",
    "print('Test loss:', test_eval[0])\n",
    "print('Test accuracy:', test_eval[1])\n",
    "\n",
    "accuracy = history.history['accuracy']\n",
    "val_accuracy = history.history['val_accuracy']\n",
    "loss = history.history['loss']\n",
    "val_loss = history.history['val_loss']\n",
    "epochs = range(len(accuracy))\n",
    "plt.plot(epochs, accuracy, 'bo', label='Training accuracy')\n",
    "plt.plot(epochs, val_accuracy, 'b', label='Validation accuracy')\n",
    "plt.title('Training and validation accuracy')\n",
    "plt.legend()\n",
    "plt.figure()\n",
    "plt.plot(epochs, loss, 'bo', label='Training loss')\n",
    "plt.plot(epochs, val_loss, 'b', label='Validation loss')\n",
    "plt.title('Training and validation loss')\n",
    "plt.legend()\n",
    "plt.show()"
   ]
  }
 ],
 "metadata": {
  "kernelspec": {
   "display_name": "Python 3 (ipykernel)",
   "language": "python",
   "name": "python3"
  },
  "language_info": {
   "codemirror_mode": {
    "name": "ipython",
    "version": 3
   },
   "file_extension": ".py",
   "mimetype": "text/x-python",
   "name": "python",
   "nbconvert_exporter": "python",
   "pygments_lexer": "ipython3",
   "version": "3.9.7"
  }
 },
 "nbformat": 4,
 "nbformat_minor": 5
}
